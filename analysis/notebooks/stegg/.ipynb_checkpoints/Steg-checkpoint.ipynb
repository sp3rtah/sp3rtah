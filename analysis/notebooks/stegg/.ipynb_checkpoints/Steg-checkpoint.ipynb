{
 "cells": [
  {
   "cell_type": "code",
   "execution_count": 29,
   "id": "4a13bb3b",
   "metadata": {},
   "outputs": [],
   "source": [
    "import cv2\n",
    "import lzma\n",
    "import numpy as np\n",
    "import matplotlib.pyplot as plt\n",
    "\n",
    "dst_name = 'panic.png'\n",
    "image = cv2.imread('dont_panic.png')"
   ]
  },
  {
   "cell_type": "code",
   "execution_count": 28,
   "id": "b3f5c0b1",
   "metadata": {},
   "outputs": [],
   "source": [
    "def toBits(data):\n",
    "    if type(data) == str:\n",
    "        return ''.join([f'{ord(i):08b}' for i in data])\n",
    "    elif type(data) == bytes or type(data) == np.ndarray:\n",
    "        return [f'{i:08b}' for i in data]\n",
    "    elif type(data) == int or type(data) == np.uint8:\n",
    "        return f'{data:08b}'\n",
    "    raise TypeError('Data type not supported!')"
   ]
  },
  {
   "cell_type": "code",
   "execution_count": 27,
   "id": "9d9b1f1c",
   "metadata": {},
   "outputs": [],
   "source": [
    "def getData(image):\n",
    "    out = ''\n",
    "    for values in image:\n",
    "        for pixel in values:\n",
    "            b,g,r = toBits(pixel)\n",
    "            out += b[-1]\n",
    "            out += g[-1]\n",
    "            out += r[-1]\n",
    "    out = [int(out[i:i+8],2) for i in range(0,len(out),8)]\n",
    "    return ''.join([chr(i) for i in out])"
   ]
  },
  {
   "cell_type": "code",
   "execution_count": 26,
   "id": "0a7e33ca",
   "metadata": {},
   "outputs": [],
   "source": [
    "def hideData(image, secret: bytes):\n",
    "    assert type(secret) == bytes\n",
    "    secret_bits = ''.join(toBits(secret))\n",
    "    ###\n",
    "    h, w, channels = image.shape\n",
    "    pixels = h * w\n",
    "    max_bit_len = pixels * channels\n",
    "    \n",
    "    bit_index = 0\n",
    "    bit_len = len(secret_bits)\n",
    "    \n",
    "    if bit_len > max_bit_len:\n",
    "        raise RuntimeError('Not enough bits to hide data')\n",
    "    print(f'Available:\\t[{max_bit_len} bits]\\t[{max_bit_len//8} chars]')\n",
    "    print(f'Payload:\\t[{bit_len} bits]\\t[{len(secret)} chars]')\n",
    "    \n",
    "    for values in image:\n",
    "        for pixel in values:\n",
    "            b,g,r = toBits(pixel)\n",
    "            assert len(b) == len(g) == len(r)\n",
    "            if bit_index < bit_len:\n",
    "                pixel[0] = int(b[:-1] + secret_bits[bit_index],2)\n",
    "                bit_index += 1\n",
    "            if bit_index < bit_len:\n",
    "                pixel[1] = int(g[:-1] + secret_bits[bit_index],2)\n",
    "                bit_index += 1\n",
    "            if bit_index < bit_len:\n",
    "                pixel[2] = int(r[:-1] + secret_bits[bit_index],2)\n",
    "                bit_index += 1\n",
    "        if bit_index == bit_len:\n",
    "            break"
   ]
  }
 ],
 "metadata": {
  "kernelspec": {
   "display_name": "Python 3 (ipykernel)",
   "language": "python",
   "name": "python3"
  },
  "language_info": {
   "codemirror_mode": {
    "name": "ipython",
    "version": 3
   },
   "file_extension": ".py",
   "mimetype": "text/x-python",
   "name": "python",
   "nbconvert_exporter": "python",
   "pygments_lexer": "ipython3",
   "version": "3.10.5"
  }
 },
 "nbformat": 4,
 "nbformat_minor": 5
}
